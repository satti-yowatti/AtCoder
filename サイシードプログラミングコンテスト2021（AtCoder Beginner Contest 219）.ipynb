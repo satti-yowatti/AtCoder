{
 "cells": [
  {
   "cell_type": "code",
   "execution_count": 5,
   "metadata": {},
   "outputs": [
    {
     "name": "stdout",
     "output_type": "stream",
     "text": [
      "70\n",
      "20\n"
     ]
    }
   ],
   "source": [
    "#AtCoder Quiz 2\n",
    "\n",
    "a = int(input())\n",
    "\n",
    "if a<40:\n",
    "    print(40-a)\n",
    "elif 40<=a<70:\n",
    "    print(70-a)\n",
    "elif 70<=a<90:\n",
    "    print(90-a)\n",
    "elif a>=90:\n",
    "    print('expert')"
   ]
  },
  {
   "cell_type": "code",
   "execution_count": 13,
   "metadata": {},
   "outputs": [
    {
     "name": "stdout",
     "output_type": "stream",
     "text": [
      "abra\n",
      "cad\n",
      "abra\n",
      "123\n",
      "abracadabra\n"
     ]
    }
   ],
   "source": [
    "#Maritozzo\n",
    "rist = []\n",
    "an=''\n",
    "\n",
    "for n in range(1,4):\n",
    "    w = input()\n",
    "    rist.append(w)\n",
    "    \n",
    "N = input()\n",
    "array = list(map(int, N))\n",
    "#print(array)\n",
    "#print(rist)\n",
    "\n",
    "for n in array:\n",
    "        #print(n)\n",
    "        #print(rist[n-1])\n",
    "        an += rist[n-1]\n",
    "\n",
    "print(an)"
   ]
  },
  {
   "cell_type": "code",
   "execution_count": 38,
   "metadata": {},
   "outputs": [
    {
     "name": "stdout",
     "output_type": "stream",
     "text": [
      "bacdefghijklmnopqrstuvwxzy\n",
      "4\n",
      "dfs\n",
      "gd\n",
      "fda\n",
      "ds\n"
     ]
    },
    {
     "ename": "ValueError",
     "evalue": "'dfs' is not in list",
     "output_type": "error",
     "traceback": [
      "\u001b[1;31m---------------------------------------------------------------------------\u001b[0m",
      "\u001b[1;31mValueError\u001b[0m                                Traceback (most recent call last)",
      "\u001b[1;32m<ipython-input-38-73c1e6c67c04>\u001b[0m in \u001b[0;36m<module>\u001b[1;34m\u001b[0m\n\u001b[0;32m     10\u001b[0m     \u001b[0mname\u001b[0m\u001b[1;33m.\u001b[0m\u001b[0mappend\u001b[0m\u001b[1;33m(\u001b[0m\u001b[0minput\u001b[0m\u001b[1;33m(\u001b[0m\u001b[1;33m)\u001b[0m\u001b[1;33m)\u001b[0m\u001b[1;33m\u001b[0m\u001b[1;33m\u001b[0m\u001b[0m\n\u001b[0;32m     11\u001b[0m \u001b[1;33m\u001b[0m\u001b[0m\n\u001b[1;32m---> 12\u001b[1;33m \u001b[0mprint\u001b[0m\u001b[1;33m(\u001b[0m\u001b[0mname\u001b[0m\u001b[1;33m.\u001b[0m\u001b[0msort\u001b[0m\u001b[1;33m(\u001b[0m\u001b[0mkey\u001b[0m\u001b[1;33m=\u001b[0m\u001b[0mX\u001b[0m\u001b[1;33m.\u001b[0m\u001b[0mindex\u001b[0m\u001b[1;33m)\u001b[0m\u001b[1;33m)\u001b[0m\u001b[1;33m\u001b[0m\u001b[1;33m\u001b[0m\u001b[0m\n\u001b[0m\u001b[0;32m     13\u001b[0m \u001b[1;33m\u001b[0m\u001b[0m\n",
      "\u001b[1;31mValueError\u001b[0m: 'dfs' is not in list"
     ]
    }
   ],
   "source": [
    "# Neo-lexicographic Ordering\n",
    "\n",
    "X = list(input())\n",
    "\n",
    "N = int(input())\n",
    "\n",
    "name = []\n",
    "\n",
    "for n in range (N):\n",
    "    name.append(input())\n",
    "    \n",
    "\n",
    "        "
   ]
  },
  {
   "cell_type": "code",
   "execution_count": 36,
   "metadata": {},
   "outputs": [
    {
     "name": "stdout",
     "output_type": "stream",
     "text": [
      "3\n",
      "5 6\n",
      "2 1\n",
      "3 4\n",
      "2 3\n",
      "2\n"
     ]
    }
   ],
   "source": [
    "#D - Strange Lunchbox\n",
    "\n",
    "N = int(input())\n",
    "X, Y = map(int, input().split())\n",
    "bento=[]\n",
    "\n",
    "for n in range(N):\n",
    "    a, b = map(int, input().split())\n",
    "    bento.append([a,b])\n",
    "\n",
    "tako=0\n",
    "tai=0\n",
    "    \n",
    "bentoooi = sorted(bento, reverse=True)\n",
    "count=0\n",
    "for b in bentoooi:\n",
    "    count+=1\n",
    "    tako += b[0]\n",
    "    tai += b[1]\n",
    "\n",
    "    if tako>=X and tai>=Y:\n",
    "        \n",
    "        print(count)\n",
    "        break\n",
    "else:\n",
    "    print(-1)"
   ]
  },
  {
   "cell_type": "code",
   "execution_count": null,
   "metadata": {},
   "outputs": [],
   "source": [
    "#D - Strange Lunchbox\n",
    "\n",
    "N = int(input())\n",
    "X, Y = map(int, input().split())\n",
    "bento=[]\n",
    "\n",
    "for n in range(N):\n",
    "    a, b = map(int, input().split())\n",
    "    bento.append([a,b])\n",
    "\n",
    "tako=0\n",
    "tai=0\n",
    "count = 301    \n",
    "c=0\n",
    "a=N\n",
    "\n",
    "for b in bento:\n",
    "    tako+=b[0]\n",
    "    tai+=b[1]\n",
    "    c +=1\n",
    "    if tako>=X and tai>=Y:\n",
    "        if c<count:\n",
    "            count = c\n",
    "            tako = 0\n",
    "            tai = 0\n",
    "        \n",
    "else:\n",
    "    print(-1)"
   ]
  },
  {
   "cell_type": "code",
   "execution_count": null,
   "metadata": {},
   "outputs": [],
   "source": []
  }
 ],
 "metadata": {
  "kernelspec": {
   "display_name": "Python 3",
   "language": "python",
   "name": "python3"
  },
  "language_info": {
   "codemirror_mode": {
    "name": "ipython",
    "version": 3
   },
   "file_extension": ".py",
   "mimetype": "text/x-python",
   "name": "python",
   "nbconvert_exporter": "python",
   "pygments_lexer": "ipython3",
   "version": "3.7.9"
  }
 },
 "nbformat": 4,
 "nbformat_minor": 4
}

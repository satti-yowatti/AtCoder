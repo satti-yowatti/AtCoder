{
 "cells": [
  {
   "cell_type": "code",
   "execution_count": null,
   "metadata": {},
   "outputs": [],
   "source": [
    "#１～Nまでの数を順に使う場合\n",
    "N=5\n",
    "for n in range (1,N+1):\n",
    "    print(n)\n",
    "    \n",
    "#奇数偶数の判定\n",
    "c=3\n",
    "if c%2==1:\n",
    "  print(\"奇数\")\n",
    "else:\n",
    "  print(\"偶数\")"
   ]
  },
  {
   "cell_type": "code",
   "execution_count": null,
   "metadata": {},
   "outputs": [],
   "source": [
    "# Welcome to AtCoder\n",
    "\n",
    "a = int(input())\n",
    "b, c = map(int, input().split())\n",
    "s = input()\n",
    "print((a+b+c),s)\n"
   ]
  },
  {
   "cell_type": "code",
   "execution_count": 4,
   "metadata": {},
   "outputs": [
    {
     "name": "stdout",
     "output_type": "stream",
     "text": [
      "3 4\n",
      "Even\n"
     ]
    }
   ],
   "source": [
    "#Product\n",
    "\n",
    "a, b = map(int, input().split())\n",
    "c = a*b\n",
    "if c%2==1:\n",
    "  print(\"Odd\")\n",
    "else:\n",
    "  print(\"Even\")\n"
   ]
  },
  {
   "cell_type": "markdown",
   "metadata": {},
   "source": [
    "Product 見直し  \n",
    "奇数偶数判定の部分  \n",
    "  \n",
    "if (a*b) % 2:  \n",
    "  print('Odd')  \n",
    "else:  \n",
    "  print('Even')  \n",
    "\n",
    "if 0: は if False: と同じなので else の処理へ行く。  \n",
    "％はあまりを出す。  \n",
    "つまり、あまりが０（２で割り切れる場合）はEven（偶数）になる。  \n",
    "あまりがある場合（あまり１）はif文がそのまま処理される。  "
   ]
  },
  {
   "cell_type": "code",
   "execution_count": null,
   "metadata": {},
   "outputs": [],
   "source": [
    "# Placing Marbles\n",
    "\n",
    "a = input()\n",
    "print(a.count('1'))\n"
   ]
  },
  {
   "cell_type": "code",
   "execution_count": null,
   "metadata": {},
   "outputs": [],
   "source": [
    "#Shift only\n",
    "\n",
    "a = int(input())\n",
    "b = list(map(int, input().split()))\n",
    "count = 0\n",
    "d = 0\n",
    "\n",
    "while True:\n",
    "    for c in range(a):\n",
    "        if b[c]%2 == 1:\n",
    "            print(count)\n",
    "            break\n",
    "        else:\n",
    "            b[c] = b[c]//2\n",
    "    else:\n",
    "        count += 1\n",
    "        continue\n",
    "    break"
   ]
  },
  {
   "cell_type": "markdown",
   "metadata": {},
   "source": [
    "Shift only 見直し  \n",
    "中身部分  \n",
    "\n",
    "ans = float('inf')  \n",
    "float('inf') で ∞ (無限大)を作る。  \n",
    "Python で無限大を表現する場合は、float型 に inf を入れる事で作ることができる。  \n",
    "\n",
    "for i in a:\n",
    "  ans = min(ans, len(bin(i)) - bin(i).rfind('1') - 1)  \n",
    "bin(i) で 10 進数を 2 進数に変換する。i が 8 の場合 bin(8) は '0b1000' に変換される。len('0b1000') で文字列の文字数 6 を得る。  \n",
    "bin(8).rfind('1') は文字列 '0b1000' から最後に見つけた '1' の位置 2 を得る。  \n",
    ".rfind() メソッドは最後に見つけた物の位置を返すが、位置は文字列の先頭 0 番目から数えている事に注意する。今回の場合は 0 が 0 番目, b が 1 番目, 1 が 2 番目で、これ以降 1 は現れないため 2 が得られる。  \n",
    "min(∞, 3) で小さい方の要素 3 を得る。\n",
    "\n",
    "\n"
   ]
  },
  {
   "cell_type": "code",
   "execution_count": null,
   "metadata": {},
   "outputs": [],
   "source": [
    "#Coins\n",
    "\n",
    "a = int(input())\n",
    "b = int(input())\n",
    "c = int(input())\n",
    "x = int(input())\n",
    "count = 0\n",
    "\n",
    "for ac in range(a+1):\n",
    "    x1 = x - (500 * ac)\n",
    "    \n",
    "    if x1 == 0:\n",
    "        count += 1\n",
    "        break\n",
    "\n",
    "    elif x1 > 0:\n",
    "        for bc in range(b+1):\n",
    "            x2 = x1 - (100 * bc)\n",
    "\n",
    "            if x2 == 0:\n",
    "                    count += 1\n",
    "                    break\n",
    "                    \n",
    "            elif x2 > 0:\n",
    "                cc = x2//50\n",
    "                if cc<=c:\n",
    "                    count += 1\n",
    "\n",
    "          \n",
    "print(count)\n"
   ]
  },
  {
   "cell_type": "markdown",
   "metadata": {},
   "source": [
    "a, b, c, x = map(int, [input() for i in range(4)])  \n",
    "入力は上で省略可能  \n",
    "\n",
    "\n",
    "ans = 0  \n",
    "for i in range(a+1):  \n",
    "  for j in range(b+1):  \n",
    "    for k in range(c+1):  \n",
    "      if i * 500 + j * 100 + k * 50 == x:  \n",
    "        ans += 1  \n",
    "\n",
    "０があるので、中身はここまで省略可能\n"
   ]
  },
  {
   "cell_type": "code",
   "execution_count": null,
   "metadata": {},
   "outputs": [],
   "source": [
    "#Some Sums\n",
    "N, a, b = map(int, input().split())\n",
    "num = []\n",
    "\n",
    "def digitSum(n):\n",
    "    # 数値を文字列に変換\n",
    "    s = str(n)\n",
    "    # １文字ずつ数値化し配列にする。\n",
    "    array = list(map(int, s))\n",
    "    # 合計値を返す\n",
    "    return sum(array)\n",
    "\n",
    "for n in range(N+1):\n",
    "    d = digitSum(n)\n",
    "    if a<=d and d<=b:\n",
    "        num.append(n)\n",
    "    \n",
    "print(sum(num))    "
   ]
  },
  {
   "cell_type": "markdown",
   "metadata": {},
   "source": [
    "Some Sums  \n",
    "\n",
    "n, a, b = map(int, input().split())\n",
    "ans = 0\n",
    "for i in range(n+1):\n",
    "  if a <= sum(list(map(int, list(str(i))))) <= b:\n",
    "    ans += i\n",
    "print(ans)  \n",
    "  \n",
    "中身は一緒、初心者的には自分の方がわかりやすい"
   ]
  },
  {
   "cell_type": "code",
   "execution_count": null,
   "metadata": {},
   "outputs": [],
   "source": [
    "#Card Game for Two\n",
    "\n",
    "N = int(input())\n",
    "a = list(map(int, input().split()))\n",
    "Alice = 0\n",
    "Bob = 0\n",
    "\n",
    "for n in range (1,N+1):\n",
    "    if n%2==1:\n",
    "        m = max(a)\n",
    "        Alice += m\n",
    "        a.remove(m)       \n",
    "    else:\n",
    "        m = max(a)\n",
    "        Bob += m\n",
    "        a.remove(m)  \n",
    "    \n",
    "print(Alice-Bob)"
   ]
  },
  {
   "cell_type": "markdown",
   "metadata": {},
   "source": [
    "Card Game for Two  \n",
    "\n",
    "n = int(input())\n",
    "a = sorted(list(map(int, input().split())), reverse=True)\n",
    "print(sum(a[::2]) - sum(a[1::2]))\n",
    "  \n",
    "sorted([4, 19, 2, 8, 16], reverse=True) で数値を降順に並び替え [19, 16, 8, 4, 2] を得る。sorted() 関数は括弧の中身を昇順にソートして、新しいリストを返します。reverse=True を付けることで降順にソートできます。役割が似た関数として sort() 関数がありますが、これは元のリストを入れ替えてしまうため注意が必要です。　　\n",
    "\n",
    "a[::2] で [19, 8, 2] を、a[1::2] で [16, 4] を得る。 \n",
    "Python ではスライス ([::2]) を使うことで、n 個おきに要素を取得したりできるので便利です。\n",
    "\n",
    "  \n"
   ]
  },
  {
   "cell_type": "code",
   "execution_count": null,
   "metadata": {},
   "outputs": [],
   "source": [
    "# Kagami Mochi\n",
    "\n",
    "N = int(input())\n",
    "mochi = []\n",
    "for n in range(N):\n",
    "    d = int(input())\n",
    "    if (d in mochi)==False:\n",
    "        mochi.append(d)\n",
    "        \n",
    "print(len(mochi))"
   ]
  },
  {
   "cell_type": "markdown",
   "metadata": {},
   "source": [
    "kagami Mochi  \n",
    "\n",
    "n = int(input())\n",
    "print(len(set(map(int, [input() for i in range(n)]))))  \n",
    "\n",
    "input() for i in range(4) で input() を 4 回繰り返して ['10', '8', '8', '6'] を取得する。\n",
    "\n",
    "map(int, ['10', '8', '8', '6']) でキャストして [10, 8, 8, 6] にする。\n",
    "\n",
    "set([10, 8, 8, 6]) で同じ数値を弾いて [10, 8, 6] を得る。\n",
    "\n",
    "len([10, 8, 6]) で [10, 8, 6] の要素数 3 を得る。\n",
    "\n",
    "print(3) で標準出力に 3 を出力する。  \n"
   ]
  },
  {
   "cell_type": "code",
   "execution_count": 1,
   "metadata": {},
   "outputs": [
    {
     "name": "stdout",
     "output_type": "stream",
     "text": [
      "20 196000\n",
      "-1 -1 -1\n"
     ]
    }
   ],
   "source": [
    "#Otoshidama\n",
    "\n",
    "N, Y= map(int, input().split())\n",
    "x = 10000\n",
    "y = 5000\n",
    "z = 1000\n",
    "total = 0\n",
    "xc = 0\n",
    "yc = 0\n",
    "zc = 0\n",
    "found = False\n",
    "\n",
    "for xc in range(N+1):\n",
    "    yc = 0\n",
    "    total = xc*x\n",
    "    #print(\"1\",total,xc,yc,zc)\n",
    "    \n",
    "    if total == Y and xc+yc+zc==N:\n",
    "        found = True\n",
    "        print(xc,yc,zc)\n",
    "        break\n",
    "    \n",
    "    else:\n",
    "        for yc in range(N+1-xc):\n",
    "            zc = 0\n",
    "            total = xc*x + yc*y\n",
    "           # print(\"2\",total,xc,yc,zc)\n",
    "            \n",
    "            if total == Y and xc+yc+zc==N:\n",
    "                found = True\n",
    "                print(xc,yc,zc)\n",
    "                break\n",
    "    \n",
    "            else:\n",
    "                zc = (N-yc-xc)\n",
    "                total = xc*x + yc*y + zc*z\n",
    "               # print(\"3\",total,xc,yc,zc)\n",
    "\n",
    "                if total == Y and xc+yc+zc==N:\n",
    "                    found = True\n",
    "                    print(xc,yc,zc)\n",
    "                    break\n",
    "        else: \n",
    "            continue\n",
    "        break\n",
    "        \n",
    "if found==False:\n",
    "    print(\"-1 -1 -1\")"
   ]
  },
  {
   "cell_type": "markdown",
   "metadata": {},
   "source": [
    "Otoshidama  \n",
    "\n",
    "n, y = map(int, input().split())\n",
    "for i in range(n + 1):\n",
    "  for j in range(n - i + 1):\n",
    "    if i * 10000 + j * 5000 + (n - i - j) * 1000 == y:\n",
    "      print(i, j, n - i - j)\n",
    "      exit()\n",
    "print(\"-1 -1 -1\")  \n",
    "\n",
    "exit() でループの途中でもプログラムを終了する。  \n"
   ]
  },
  {
   "cell_type": "code",
   "execution_count": 1,
   "metadata": {},
   "outputs": [
    {
     "name": "stdout",
     "output_type": "stream",
     "text": [
      "9 45000\n",
      "0 9 0\n",
      "4 0 5\n",
      "-1 -1 -1\n"
     ]
    }
   ],
   "source": [
    "n, y = map(int, input().split())\n",
    "for i in range(n + 1):\n",
    "  for j in range(n - i + 1):\n",
    "    if i * 10000 + j * 5000 + (n - i - j) * 1000 == y:\n",
    "      print(i, j, n - i - j)\n",
    "      exit\n",
    "print(\"-1 -1 -1\")  \n"
   ]
  },
  {
   "cell_type": "code",
   "execution_count": 2,
   "metadata": {},
   "outputs": [
    {
     "name": "stdout",
     "output_type": "stream",
     "text": [
      "dreameraser\n",
      "YES\n"
     ]
    }
   ],
   "source": [
    "#白昼夢\n",
    "\n",
    "s = input()\n",
    "t = ''\n",
    "T = ['eraser' ,'erase','dreamer', 'dream']\n",
    "\n",
    "for i in T:\n",
    "    if (i in s)==True:\n",
    "        s = s.replace(i,'')\n",
    "        if s=='':\n",
    "            print('YES')\n",
    "\n",
    "if s!='':\n",
    "    print('NO')"
   ]
  },
  {
   "cell_type": "markdown",
   "metadata": {},
   "source": [
    "白昼夢  \n",
    "基本的にはこの方法で正解  \n",
    "\n",
    "if s:\n",
    "  print(\"NO\")\n",
    "else:\n",
    "  print(\"YES\")\n",
    "  \n",
    " if \"\": は if False: と同じなので else の処理へ。\n",
    "\n",
    "print(\"YES\") で標準出力に \"YES\" を出力する。\n",
    "\n",
    "if \"aser\": のように if 文の条件式に何らかの文字列が入っていた場合は if True: の処理が行われる。"
   ]
  },
  {
   "cell_type": "code",
   "execution_count": 1,
   "metadata": {},
   "outputs": [
    {
     "name": "stdout",
     "output_type": "stream",
     "text": [
      "2\n",
      "3 1 2\n",
      "6 1 1\n",
      "Yes\n"
     ]
    }
   ],
   "source": [
    "#Traveling\n",
    "\n",
    "N = int(input())\n",
    "count = 0\n",
    "bx = 0\n",
    "by = 0\n",
    "bt = 0\n",
    "dif = 0\n",
    "\n",
    "\n",
    "for i in range(N):\n",
    "    t, x, y = map(int, input().split())\n",
    "    dif = abs(bx - x) + abs(by -y)\n",
    "    #print(dif,bx,by,t,bt)\n",
    "    if (dif==(t-bt)) or (dif==((t-bt)%2)):\n",
    "        #print('OK')\n",
    "        bx = x\n",
    "        by = y\n",
    "        bt = t\n",
    "    else:\n",
    "        count = 1\n",
    "        break\n",
    "        \n",
    "if count == 0:\n",
    "    print('Yes')\n",
    "elif count == 1:\n",
    "    print('No')\n",
    "    "
   ]
  },
  {
   "cell_type": "markdown",
   "metadata": {},
   "source": [
    "Traveling  \n",
    "\n",
    "絶対値→abs(数字)"
   ]
  }
 ],
 "metadata": {
  "kernelspec": {
   "display_name": "Python 3",
   "language": "python",
   "name": "python3"
  },
  "language_info": {
   "codemirror_mode": {
    "name": "ipython",
    "version": 3
   },
   "file_extension": ".py",
   "mimetype": "text/x-python",
   "name": "python",
   "nbconvert_exporter": "python",
   "pygments_lexer": "ipython3",
   "version": "3.7.9"
  }
 },
 "nbformat": 4,
 "nbformat_minor": 4
}
